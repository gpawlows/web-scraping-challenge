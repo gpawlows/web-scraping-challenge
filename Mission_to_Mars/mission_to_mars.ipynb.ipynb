{
 "cells": [
  {
   "cell_type": "code",
   "execution_count": 6,
   "source": [
    "from splinter import Browser\r\n",
    "from bs4 import BeautifulSoup\r\n",
    "from webdriver_manager.chrome import ChromeDriverManager"
   ],
   "outputs": [],
   "metadata": {}
  },
  {
   "cell_type": "code",
   "execution_count": 7,
   "source": [
    "executable_path = {'executable_path': ChromeDriverManager().install()}\r\n",
    "browser = Browser('chrome', **executable_path, headless=False)"
   ],
   "outputs": [
    {
     "output_type": "stream",
     "name": "stderr",
     "text": [
      "\n",
      "\n",
      "====== WebDriver manager ======\n",
      "Current google-chrome version is 92.0.4515\n",
      "Get LATEST driver version for 92.0.4515\n",
      "Driver [C:\\Users\\GPSchool\\.wdm\\drivers\\chromedriver\\win32\\92.0.4515.107\\chromedriver.exe] found in cache\n"
     ]
    }
   ],
   "metadata": {}
  },
  {
   "cell_type": "code",
   "execution_count": 8,
   "source": [
    "url = 'http://redplanetscience.com/#'\r\n",
    "browser.visit(url)"
   ],
   "outputs": [],
   "metadata": {}
  },
  {
   "cell_type": "code",
   "execution_count": 24,
   "source": [
    "html = browser.html\r\n",
    "soup = BeautifulSoup(html, 'html.parser')\r\n",
    "\r\n",
    "titles = soup.find_all('div', class_='content_title')\r\n",
    "summaries = soup.find_all('div', class_='article_teaser_body')\r\n",
    "\r\n",
    "titles_list = []\r\n",
    "summaries_list = []\r\n",
    "\r\n",
    "# Iterate through each article\r\n",
    "for title in titles:\r\n",
    "    # Use Beautiful Soup's find() method to navigate and retrieve attributes\r\n",
    "    title = title.text.strip()\r\n",
    "    titles_list.append(title)\r\n",
    "    \r\n",
    "for summary in summaries:\r\n",
    "    # Use Beautiful Soup's find() method to navigate and retrieve attributes\r\n",
    "    summary = summary.text.strip()\r\n",
    "    summaries_list.append(summary)\r\n",
    "\r\n",
    "titles_and_summaries = zip(titles_list, summaries_list)\r\n",
    "\r\n",
    "try:\r\n",
    "        browser.links.find_by_partial_text('next').click()\r\n",
    "          \r\n",
    "except:\r\n",
    "        print(\"Scraping Complete\")"
   ],
   "outputs": [
    {
     "output_type": "stream",
     "name": "stdout",
     "text": [
      "Scraping Complete\n"
     ]
    }
   ],
   "metadata": {}
  },
  {
   "cell_type": "code",
   "execution_count": 26,
   "source": [
    "summaries_list\r\n",
    "titles_list"
   ],
   "outputs": [
    {
     "output_type": "execute_result",
     "data": {
      "text/plain": [
       "['NASA Moves Forward With Campaign to Return Mars Samples to Earth',\n",
       " \"Media Get a Close-Up of NASA's Mars 2020 Rover\",\n",
       " \"NASA's Perseverance Rover Is Midway to Mars\",\n",
       " 'MAVEN Maps Electric Currents around Mars that are Fundamental to Atmospheric Loss',\n",
       " \"Mars Helicopter Attached to NASA's Perseverance Rover\",\n",
       " 'Mars 2020 Stands on Its Own Six Wheels',\n",
       " 'Heat and Dust Help Launch Martian Water Into Space, Scientists Find',\n",
       " 'AI Is Helping Scientists Discover Fresh Craters on Mars',\n",
       " 'Mars Is Getting a New Robotic Meteorologist',\n",
       " \"NASA's Push to Save the Mars InSight Lander's Heat Probe\",\n",
       " \"10.9 Million Names Now Aboard NASA's Perseverance Mars Rover\",\n",
       " \"NASA's InSight 'Hears' Peculiar Sounds on Mars\",\n",
       " 'With Mars Methane Mystery Unsolved, Curiosity Serves Scientists a New One: Oxygen',\n",
       " \"NASA's Perseverance Rover Will Look at Mars Through These 'Eyes'\",\n",
       " \"InSight's 'Mole' Team Peers into the Pit\"]"
      ]
     },
     "metadata": {},
     "execution_count": 26
    }
   ],
   "metadata": {}
  },
  {
   "cell_type": "code",
   "execution_count": 29,
   "source": [
    "executable_path = {'executable_path': ChromeDriverManager().install()}\r\n",
    "browser = Browser('chrome', **executable_path, headless=False)"
   ],
   "outputs": [
    {
     "output_type": "stream",
     "name": "stderr",
     "text": [
      "\n",
      "\n",
      "====== WebDriver manager ======\n",
      "Current google-chrome version is 92.0.4515\n",
      "Get LATEST driver version for 92.0.4515\n",
      "Driver [C:\\Users\\GPSchool\\.wdm\\drivers\\chromedriver\\win32\\92.0.4515.107\\chromedriver.exe] found in cache\n"
     ]
    }
   ],
   "metadata": {}
  },
  {
   "cell_type": "code",
   "execution_count": 32,
   "source": [
    "url = \"https://spaceimages-mars.com/\"\r\n",
    "browser.visit(url)\r\n",
    "\r\n",
    "fancy_image_url = 'https://spaceimages-mars.com/image/featured/mars2.jpg'"
   ],
   "outputs": [],
   "metadata": {}
  }
 ],
 "metadata": {
  "orig_nbformat": 4,
  "language_info": {
   "name": "python",
   "version": "3.6.10",
   "mimetype": "text/x-python",
   "codemirror_mode": {
    "name": "ipython",
    "version": 3
   },
   "pygments_lexer": "ipython3",
   "nbconvert_exporter": "python",
   "file_extension": ".py"
  },
  "kernelspec": {
   "name": "python3",
   "display_name": "Python 3.6.10 64-bit ('PythonData': conda)"
  },
  "interpreter": {
   "hash": "2f3a706b34eb0ea9bbb028628723f5cd93895146db5a4b3f252e9288b7f6741a"
  }
 },
 "nbformat": 4,
 "nbformat_minor": 2
}